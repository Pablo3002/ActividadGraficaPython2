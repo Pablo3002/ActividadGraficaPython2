{
 "cells": [
  {
   "cell_type": "markdown",
   "id": "445b3c14",
   "metadata": {},
   "source": [
    "Corregir el miércoles 24-11-2021Ejercicio 0\n",
    "busca un repositorio en donde podamos acceder / descargar contenido json válido.\n",
    "\n",
    "\n",
    "Ejercicio 1\n",
    "cuando te conectas a una ruta ... es habitual escribir r\"ruta\". ¿qué significa esa r?\n",
    "\n",
    "\n",
    "Ejercicio2\n",
    "conéctate a un json y muestra algunos datos en python para probar que funciona\n",
    "\n",
    "\n",
    "Ejercicio3\n",
    "representa algunos datos en un gráfico circular\n",
    "\n",
    "\n",
    "Ejercicio4\n",
    "representa algunos datos en un gráfico de barras"
   ]
  },
  {
   "cell_type": "code",
   "execution_count": 66,
   "id": "db7b136e",
   "metadata": {},
   "outputs": [
    {
     "data": {
      "image/png": "[encoded data removed]",
      "text/plain": [
       "<Figure size 432x288 with 1 Axes>"
      ]
     },
     "metadata": {},
     "output_type": "display_data"
    },
    {
     "name": "stdout",
     "output_type": "stream",
     "text": [
      "                                              marcas\n",
      "0  {'id': 1, 'nombre': 'Audi', 'modelos': ['A5', ...\n",
      "1  {'id': 2, 'nombre': 'BMW', 'modelos': ['Serie ...\n",
      "2  {'id': 3, 'nombre': 'Chevrolet', 'modelos': ['...\n",
      "3  {'id': 4, 'nombre': 'Citroen', 'modelos': ['Xs...\n",
      "4  {'id': 5, 'nombre': 'Daihatsu', 'modelos': ['C...\n",
      "5  {'id': 6, 'nombre': 'Dodge', 'modelos': ['Coro...\n",
      "6  {'id': 7, 'nombre': 'Fiat', 'modelos': ['Zasta...\n",
      "7  {'id': 8, 'nombre': 'Ford', 'modelos': ['Fusio...\n"
     ]
    }
   ],
   "source": [
    "import pandas as pd\n",
    "import matplotlib.pyplot as plt\n",
    "import json\n",
    "\n",
    "#df = open(\"D://usuarios//pablo//Downloads//coches.json\", \"r\")\n",
    "#r representa el modo de lectura para el método open\n",
    "df2 = pd.read_json(\"D://usuarios//pablo//Downloads//coches.json\")\n",
    "\n",
    "etiquetas = []\n",
    "porcentajes = []\n",
    "with open('D://usuarios//pablo//Downloads//coches2.json') as file:\n",
    "    data = json.loads(file.read())\n",
    "    \n",
    "    for cliente in data[\"marcas\"]:\n",
    "        nombres = cliente['nombre']\n",
    "        etiquetas.append(nombres)\n",
    "        \n",
    "    for ventas in data[\"marcas\"]:\n",
    "        nombres = ventas['venta']\n",
    "        porcentajes.append(nombres)\n",
    "\n",
    "plt.pie(porcentajes, labels=etiquetas)\n",
    "plt.show()\n",
    "\n",
    "#print(df.read())\n",
    "print(df2)"
   ]
  },
  {
   "cell_type": "code",
   "execution_count": 73,
   "id": "670ab4c2",
   "metadata": {},
   "outputs": [
    {
     "data": {
      "image/png": "[encoded data removed]",
      "text/plain": [
       "<Figure size 432x288 with 1 Axes>"
      ]
     },
     "metadata": {
      "needs_background": "light"
     },
     "output_type": "display_data"
    },
    {
     "name": "stdout",
     "output_type": "stream",
     "text": [
      "                                              marcas\n",
      "0  {'id': 1, 'nombre': 'Audi', 'modelos': ['A5', ...\n",
      "1  {'id': 2, 'nombre': 'BMW', 'modelos': ['Serie ...\n",
      "2  {'id': 3, 'nombre': 'Chevrolet', 'modelos': ['...\n",
      "3  {'id': 4, 'nombre': 'Citroen', 'modelos': ['Xs...\n",
      "4  {'id': 5, 'nombre': 'Daihatsu', 'modelos': ['C...\n",
      "5  {'id': 6, 'nombre': 'Dodge', 'modelos': ['Coro...\n",
      "6  {'id': 7, 'nombre': 'Fiat', 'modelos': ['Zasta...\n",
      "7  {'id': 8, 'nombre': 'Ford', 'modelos': ['Fusio...\n"
     ]
    }
   ],
   "source": [
    "import pandas as pd\n",
    "import matplotlib.pyplot as plt\n",
    "import json\n",
    "\n",
    "#df = open(\"D://usuarios//pablo//Downloads//coches.json\", \"r\")\n",
    "#r representa el modo de lectura para el método open\n",
    "df2 = pd.read_json(\"D://usuarios//pablo//Downloads//coches.json\")\n",
    "\n",
    "etiquetas = []\n",
    "porcentajes = []\n",
    "with open('D://usuarios//pablo//Downloads//coches2.json') as file:\n",
    "    data = json.loads(file.read())\n",
    "    \n",
    "    for cliente in data[\"marcas\"]:\n",
    "        nombres = cliente['nombre']\n",
    "        etiquetas.append(nombres)\n",
    "        \n",
    "    for ventas in data[\"marcas\"]:\n",
    "        nombres = ventas['venta']\n",
    "        porcentajes.append(nombres)\n",
    "\n",
    "plt.bar(porcentajes, etiquetas)\n",
    "plt.ylabel(\"Marcas\")\n",
    "plt.xlabel(\"Porcentaje de Mercado\")\n",
    "plt.show()\n",
    "\n",
    "#print(df.read())\n",
    "print(df2)"
   ]
  },
  {
   "cell_type": "code",
   "execution_count": null,
   "id": "716424c2",
   "metadata": {},
   "outputs": [],
   "source": []
  }
 ],
 "metadata": {
  "kernelspec": {
   "display_name": "Python 3 (ipykernel)",
   "language": "python",
   "name": "python3"
  },
  "language_info": {
   "codemirror_mode": {
    "name": "ipython",
    "version": 3
   },
   "file_extension": ".py",
   "mimetype": "text/x-python",
   "name": "python",
   "nbconvert_exporter": "python",
   "pygments_lexer": "ipython3",
   "version": "3.9.7"
  }
 },
 "nbformat": 4,
 "nbformat_minor": 5
}
